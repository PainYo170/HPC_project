{
 "cells": [
  {
   "cell_type": "markdown",
   "metadata": {},
   "source": [
    "### Here we ayalyze the workload imbalance of long running batch jobs"
   ]
  },
  {
   "cell_type": "code",
   "execution_count": 1,
   "metadata": {},
   "outputs": [],
   "source": [
    "import numpy as np\n",
    "import pandas as pd "
   ]
  },
  {
   "cell_type": "code",
   "execution_count": 2,
   "metadata": {},
   "outputs": [],
   "source": [
    "ce = pd.read_csv(\"D:/Files/2019 Spring/High P Com/Project/trace_201708/trace_201708/container_event.csv\")"
   ]
  },
  {
   "cell_type": "code",
   "execution_count": 3,
   "metadata": {},
   "outputs": [
    {
     "data": {
      "text/html": [
       "<div>\n",
       "<style scoped>\n",
       "    .dataframe tbody tr th:only-of-type {\n",
       "        vertical-align: middle;\n",
       "    }\n",
       "\n",
       "    .dataframe tbody tr th {\n",
       "        vertical-align: top;\n",
       "    }\n",
       "\n",
       "    .dataframe thead th {\n",
       "        text-align: right;\n",
       "    }\n",
       "</style>\n",
       "<table border=\"1\" class=\"dataframe\">\n",
       "  <thead>\n",
       "    <tr style=\"text-align: right;\">\n",
       "      <th></th>\n",
       "      <th>ts</th>\n",
       "      <th>event</th>\n",
       "      <th>instance_id</th>\n",
       "      <th>machine_id</th>\n",
       "      <th>plan_cpu</th>\n",
       "      <th>plan_mem</th>\n",
       "      <th>plan_disk</th>\n",
       "      <th>cpuset</th>\n",
       "    </tr>\n",
       "  </thead>\n",
       "  <tbody>\n",
       "    <tr>\n",
       "      <th>0</th>\n",
       "      <td>0</td>\n",
       "      <td>Create</td>\n",
       "      <td>10000</td>\n",
       "      <td>934</td>\n",
       "      <td>4</td>\n",
       "      <td>0.042409</td>\n",
       "      <td>0.034085</td>\n",
       "      <td>40|41|42|43</td>\n",
       "    </tr>\n",
       "    <tr>\n",
       "      <th>1</th>\n",
       "      <td>0</td>\n",
       "      <td>Create</td>\n",
       "      <td>1000</td>\n",
       "      <td>1295</td>\n",
       "      <td>8</td>\n",
       "      <td>0.084819</td>\n",
       "      <td>0.056809</td>\n",
       "      <td>56|57|58|59|60|61|62|63</td>\n",
       "    </tr>\n",
       "    <tr>\n",
       "      <th>2</th>\n",
       "      <td>0</td>\n",
       "      <td>Create</td>\n",
       "      <td>10001</td>\n",
       "      <td>668</td>\n",
       "      <td>8</td>\n",
       "      <td>0.084819</td>\n",
       "      <td>0.056809</td>\n",
       "      <td>24|25|26|27|28|29|30|31</td>\n",
       "    </tr>\n",
       "    <tr>\n",
       "      <th>3</th>\n",
       "      <td>0</td>\n",
       "      <td>Create</td>\n",
       "      <td>10002</td>\n",
       "      <td>1217</td>\n",
       "      <td>8</td>\n",
       "      <td>0.084819</td>\n",
       "      <td>0.056809</td>\n",
       "      <td>4|5|6|7|8|9|10|11</td>\n",
       "    </tr>\n",
       "    <tr>\n",
       "      <th>4</th>\n",
       "      <td>0</td>\n",
       "      <td>Create</td>\n",
       "      <td>10003</td>\n",
       "      <td>1019</td>\n",
       "      <td>4</td>\n",
       "      <td>0.042409</td>\n",
       "      <td>0.034085</td>\n",
       "      <td>36|37|38|39</td>\n",
       "    </tr>\n",
       "  </tbody>\n",
       "</table>\n",
       "</div>"
      ],
      "text/plain": [
       "   ts   event  instance_id  machine_id  plan_cpu  plan_mem  plan_disk  \\\n",
       "0   0  Create        10000         934         4  0.042409   0.034085   \n",
       "1   0  Create         1000        1295         8  0.084819   0.056809   \n",
       "2   0  Create        10001         668         8  0.084819   0.056809   \n",
       "3   0  Create        10002        1217         8  0.084819   0.056809   \n",
       "4   0  Create        10003        1019         4  0.042409   0.034085   \n",
       "\n",
       "                    cpuset  \n",
       "0              40|41|42|43  \n",
       "1  56|57|58|59|60|61|62|63  \n",
       "2  24|25|26|27|28|29|30|31  \n",
       "3        4|5|6|7|8|9|10|11  \n",
       "4              36|37|38|39  "
      ]
     },
     "execution_count": 3,
     "metadata": {},
     "output_type": "execute_result"
    }
   ],
   "source": [
    "ce.head()"
   ]
  },
  {
   "cell_type": "code",
   "execution_count": 4,
   "metadata": {},
   "outputs": [
    {
     "data": {
      "text/plain": [
       "array([    2,     3,     4, ..., 11273, 11274, 11275], dtype=int64)"
      ]
     },
     "execution_count": 4,
     "metadata": {},
     "output_type": "execute_result"
    }
   ],
   "source": [
    "ce_instance_id = np.sort(ce.instance_id)\n",
    "ce_instance_id"
   ]
  },
  {
   "cell_type": "code",
   "execution_count": 5,
   "metadata": {},
   "outputs": [
    {
     "data": {
      "text/plain": [
       "array([   1,    1,    1, ..., 1313, 1313, 1313], dtype=int64)"
      ]
     },
     "execution_count": 5,
     "metadata": {},
     "output_type": "execute_result"
    }
   ],
   "source": [
    "ce_machine_id = np.sort(ce.machine_id)\n",
    "ce_machine_id"
   ]
  },
  {
   "cell_type": "code",
   "execution_count": 8,
   "metadata": {},
   "outputs": [
    {
     "data": {
      "image/png": "[encoded data removed]",
      "text/plain": [
       "<Figure size 432x288 with 1 Axes>"
      ]
     },
     "metadata": {},
     "output_type": "display_data"
    }
   ],
   "source": [
    "import matplotlib.pyplot as plt\n",
    "import os.path\n",
    "ce_plan_cpu = np.sort(ce.plan_cpu)\n",
    "ce_plan_cpu\n",
    "plt.hist(ce_plan_cpu, bins =  [0,2,4,6,8,10,12,14,16]) \n",
    "plt.title(\"Planned CPU distribution\") \n",
    "plt.ylabel(\"Instance number\")\n",
    "plt.xlabel(\"Request CPU number\")\n",
    "directory = \"D:/Files/2019 Spring/High P Com/Project/HPC_project/figures/\"\n",
    "filename = os.path.join(directory, 'Planned CPU distribution.png')\n",
    "plt.savefig(filename, dpi=300)\n",
    "plt.show()"
   ]
  },
  {
   "cell_type": "code",
   "execution_count": 9,
   "metadata": {},
   "outputs": [
    {
     "data": {
      "image/png": "[encoded data removed]",
      "text/plain": [
       "<Figure size 432x288 with 1 Axes>"
      ]
     },
     "metadata": {},
     "output_type": "display_data"
    }
   ],
   "source": [
    "ce_plan_mem = np.sort(ce.plan_mem)\n",
    "ce_plan_mem\n",
    "plt.hist(ce_plan_mem, bins =  [0,0.2,0.4,0.6,0.8,1.0,1.2]) \n",
    "plt.title(\"Planned Memory distribution\") \n",
    "plt.ylabel(\"Instance number\")\n",
    "plt.xlabel(\"Request normalized memory partition\")\n",
    "directory = \"D:/Files/2019 Spring/High P Com/Project/HPC_project/figures/\"\n",
    "filename = os.path.join(directory, 'Planned Memory distribution.png')\n",
    "plt.savefig(filename, dpi=300)\n",
    "plt.show()"
   ]
  },
  {
   "cell_type": "code",
   "execution_count": 10,
   "metadata": {},
   "outputs": [],
   "source": [
    "reserve_cpu_num = {}\n",
    "for m_id in ce_machine_id:\n",
    "    reserve_cpu_num[m_id] = sum(ce[ce.machine_id == m_id].plan_cpu)"
   ]
  },
  {
   "cell_type": "code",
   "execution_count": 11,
   "metadata": {},
   "outputs": [
    {
     "data": {
      "image/png": "[encoded data removed]",
      "text/plain": [
       "<Figure size 576x360 with 1 Axes>"
      ]
     },
     "metadata": {},
     "output_type": "display_data"
    }
   ],
   "source": [
    "import matplotlib.pyplot as plt\n",
    "import os.path\n",
    "plt.figure(figsize=[8,5])\n",
    "\n",
    "#plot each machine reserved CPU number\n",
    "lists = sorted(reserve_cpu_num.items())\n",
    "x, y = zip(*lists) # unpack a list of pairs into two tuples\n",
    "cpu_number = [z for z in y]\n",
    "machine_id = [z for z in x]\n",
    "plt.title(\"Reserved CPU cores for each machine\")\n",
    "plt.ylabel(\"CPU cores\")\n",
    "plt.xlabel(\"Machine ID\")\n",
    "plt.plot(machine_id, cpu_number, label=\"cpu number\")\n",
    "directory = \"D:/Files/2019 Spring/High P Com/Project/HPC_project/figures/\"\n",
    "filename = os.path.join(directory, 'reserve_CPU_cores.png')\n",
    "plt.savefig(filename, dpi=300)\n",
    "plt.show()"
   ]
  },
  {
   "cell_type": "code",
   "execution_count": 12,
   "metadata": {},
   "outputs": [
    {
     "data": {
      "image/png": "[encoded data removed]",
      "text/plain": [
       "<Figure size 576x360 with 1 Axes>"
      ]
     },
     "metadata": {},
     "output_type": "display_data"
    }
   ],
   "source": [
    "reserve_mem = {}\n",
    "for m_id in ce_machine_id:\n",
    "    reserve_mem[m_id] = sum(ce[ce.machine_id == m_id].plan_mem)\n",
    "    \n",
    "import matplotlib.pyplot as plt\n",
    "import os.path\n",
    "plt.figure(figsize=[8,5])\n",
    "\n",
    "#plot each machine reserved memory percentage \n",
    "lists = sorted(reserve_mem.items())\n",
    "x, y = zip(*lists) # unpack a list of pairs into two tuples\n",
    "mem_precent = [z for z in y]\n",
    "machine_id = [z for z in x]\n",
    "plt.title(\"Reserved memory percentage for each machine\")\n",
    "plt.ylabel(\"Memory Normalized\")\n",
    "plt.xlabel(\"Machine ID\")\n",
    "plt.plot(machine_id, mem_precent, label=\"memory percentage\")\n",
    "directory = \"D:/Files/2019 Spring/High P Com/Project/HPC_project/figures/\"\n",
    "filename = os.path.join(directory, 'reserve_memory.png')\n",
    "plt.savefig(filename, dpi=300)\n",
    "plt.show()"
   ]
  },
  {
   "cell_type": "markdown",
   "metadata": {},
   "source": [
    "#### From the above two plot figures, we can find reserved CPU cores and memory are vary in different machines. Some machines have been reserved over burdern recourse but some are under burdern"
   ]
  },
  {
   "cell_type": "code",
   "execution_count": 13,
   "metadata": {},
   "outputs": [
    {
     "data": {
      "text/html": [
       "<div>\n",
       "<style scoped>\n",
       "    .dataframe tbody tr th:only-of-type {\n",
       "        vertical-align: middle;\n",
       "    }\n",
       "\n",
       "    .dataframe tbody tr th {\n",
       "        vertical-align: top;\n",
       "    }\n",
       "\n",
       "    .dataframe thead th {\n",
       "        text-align: right;\n",
       "    }\n",
       "</style>\n",
       "<table border=\"1\" class=\"dataframe\">\n",
       "  <thead>\n",
       "    <tr style=\"text-align: right;\">\n",
       "      <th></th>\n",
       "      <th>ts</th>\n",
       "      <th>instance_id</th>\n",
       "      <th>cpu_util</th>\n",
       "      <th>mem_util</th>\n",
       "      <th>disk_util</th>\n",
       "      <th>load1</th>\n",
       "      <th>load5</th>\n",
       "      <th>load15</th>\n",
       "      <th>avg_cpi</th>\n",
       "      <th>avg_mpki</th>\n",
       "      <th>max_cpi</th>\n",
       "      <th>max_mpki</th>\n",
       "    </tr>\n",
       "  </thead>\n",
       "  <tbody>\n",
       "    <tr>\n",
       "      <th>0</th>\n",
       "      <td>42900</td>\n",
       "      <td>106</td>\n",
       "      <td>42.84</td>\n",
       "      <td>65.52</td>\n",
       "      <td>17.14</td>\n",
       "      <td>3.14</td>\n",
       "      <td>3.40</td>\n",
       "      <td>3.66</td>\n",
       "      <td>0.064628</td>\n",
       "      <td>0.034337</td>\n",
       "      <td>0.726102</td>\n",
       "      <td>0.457576</td>\n",
       "    </tr>\n",
       "    <tr>\n",
       "      <th>1</th>\n",
       "      <td>42600</td>\n",
       "      <td>107</td>\n",
       "      <td>3.30</td>\n",
       "      <td>24.00</td>\n",
       "      <td>5.20</td>\n",
       "      <td>0.54</td>\n",
       "      <td>0.38</td>\n",
       "      <td>0.30</td>\n",
       "      <td>0.155430</td>\n",
       "      <td>0.550153</td>\n",
       "      <td>2.211467</td>\n",
       "      <td>12.187318</td>\n",
       "    </tr>\n",
       "    <tr>\n",
       "      <th>2</th>\n",
       "      <td>42300</td>\n",
       "      <td>108</td>\n",
       "      <td>3.14</td>\n",
       "      <td>25.60</td>\n",
       "      <td>10.60</td>\n",
       "      <td>0.08</td>\n",
       "      <td>0.14</td>\n",
       "      <td>0.20</td>\n",
       "      <td>0.199342</td>\n",
       "      <td>0.294852</td>\n",
       "      <td>2.633724</td>\n",
       "      <td>3.997216</td>\n",
       "    </tr>\n",
       "    <tr>\n",
       "      <th>3</th>\n",
       "      <td>42000</td>\n",
       "      <td>109</td>\n",
       "      <td>3.82</td>\n",
       "      <td>42.00</td>\n",
       "      <td>13.90</td>\n",
       "      <td>0.10</td>\n",
       "      <td>0.16</td>\n",
       "      <td>0.20</td>\n",
       "      <td>0.238470</td>\n",
       "      <td>0.292426</td>\n",
       "      <td>2.203077</td>\n",
       "      <td>2.942878</td>\n",
       "    </tr>\n",
       "    <tr>\n",
       "      <th>4</th>\n",
       "      <td>41700</td>\n",
       "      <td>110</td>\n",
       "      <td>5.82</td>\n",
       "      <td>24.90</td>\n",
       "      <td>7.40</td>\n",
       "      <td>0.74</td>\n",
       "      <td>0.62</td>\n",
       "      <td>0.60</td>\n",
       "      <td>0.136100</td>\n",
       "      <td>0.161496</td>\n",
       "      <td>1.622428</td>\n",
       "      <td>2.469633</td>\n",
       "    </tr>\n",
       "  </tbody>\n",
       "</table>\n",
       "</div>"
      ],
      "text/plain": [
       "      ts  instance_id  cpu_util  mem_util  disk_util  load1  load5  load15  \\\n",
       "0  42900          106     42.84     65.52      17.14   3.14   3.40    3.66   \n",
       "1  42600          107      3.30     24.00       5.20   0.54   0.38    0.30   \n",
       "2  42300          108      3.14     25.60      10.60   0.08   0.14    0.20   \n",
       "3  42000          109      3.82     42.00      13.90   0.10   0.16    0.20   \n",
       "4  41700          110      5.82     24.90       7.40   0.74   0.62    0.60   \n",
       "\n",
       "    avg_cpi  avg_mpki   max_cpi   max_mpki  \n",
       "0  0.064628  0.034337  0.726102   0.457576  \n",
       "1  0.155430  0.550153  2.211467  12.187318  \n",
       "2  0.199342  0.294852  2.633724   3.997216  \n",
       "3  0.238470  0.292426  2.203077   2.942878  \n",
       "4  0.136100  0.161496  1.622428   2.469633  "
      ]
     },
     "execution_count": 13,
     "metadata": {},
     "output_type": "execute_result"
    }
   ],
   "source": [
    "cu = pd.read_csv(\"D:/Files/2019 Spring/High P Com/Project/trace_201708/trace_201708/container_usage.csv\")\n",
    "cu.head()"
   ]
  },
  {
   "cell_type": "code",
   "execution_count": 28,
   "metadata": {},
   "outputs": [
    {
     "data": {
      "text/plain": [
       "array([    1,     2,     3, ..., 11271, 11273, 11275], dtype=int64)"
      ]
     },
     "execution_count": 28,
     "metadata": {},
     "output_type": "execute_result"
    }
   ],
   "source": [
    "instanceid = np.sort(cu[cu.ts == 42600].instance_id)\n",
    "instanceid"
   ]
  },
  {
   "cell_type": "code",
   "execution_count": 14,
   "metadata": {},
   "outputs": [
    {
     "data": {
      "image/png": "[encoded data removed]",
      "text/plain": [
       "<Figure size 432x288 with 1 Axes>"
      ]
     },
     "metadata": {},
     "output_type": "display_data"
    }
   ],
   "source": [
    "cu_cpu_util = np.sort(cu.cpu_util)\n",
    "plt.hist(cu_cpu_util, bins =  [0,10,20,30,40,50,60,70,80,90,100]) \n",
    "plt.title(\"Actual/Planned CPU utilization distribution\") \n",
    "plt.ylabel(\"Instance number\")\n",
    "plt.xlabel(\"Actual/Planned %\")\n",
    "directory = \"D:/Files/2019 Spring/High P Com/Project/HPC_project/figures/\"\n",
    "filename = os.path.join(directory, 'Actual_Planned CPU utilization.png')\n",
    "plt.savefig(filename, dpi=300)\n",
    "plt.show()"
   ]
  },
  {
   "cell_type": "code",
   "execution_count": 15,
   "metadata": {},
   "outputs": [
    {
     "data": {
      "text/plain": [
       "98.9199996948184"
      ]
     },
     "execution_count": 15,
     "metadata": {},
     "output_type": "execute_result"
    }
   ],
   "source": [
    "max(cu_cpu_util)"
   ]
  },
  {
   "cell_type": "code",
   "execution_count": 16,
   "metadata": {},
   "outputs": [
    {
     "data": {
      "text/plain": [
       "0.3000000044700026"
      ]
     },
     "execution_count": 16,
     "metadata": {},
     "output_type": "execute_result"
    }
   ],
   "source": [
    "min(cu_cpu_util)"
   ]
  },
  {
   "cell_type": "code",
   "execution_count": 17,
   "metadata": {},
   "outputs": [
    {
     "data": {
      "text/plain": [
       "78.24999809262772"
      ]
     },
     "execution_count": 17,
     "metadata": {},
     "output_type": "execute_result"
    }
   ],
   "source": [
    "cu_mem_util = np.sort(cu.mem_util)\n",
    "max(cu_mem_util)"
   ]
  },
  {
   "cell_type": "code",
   "execution_count": 18,
   "metadata": {},
   "outputs": [
    {
     "data": {
      "text/plain": [
       "0.5"
      ]
     },
     "execution_count": 18,
     "metadata": {},
     "output_type": "execute_result"
    }
   ],
   "source": [
    "min(cu_mem_util)"
   ]
  },
  {
   "cell_type": "code",
   "execution_count": 21,
   "metadata": {},
   "outputs": [
    {
     "data": {
      "text/plain": [
       "array([    1,     1,     1, ..., 11275, 11275, 11275], dtype=int64)"
      ]
     },
     "execution_count": 21,
     "metadata": {},
     "output_type": "execute_result"
    }
   ],
   "source": [
    "instance_id = np.sort(cu.instance_id)\n",
    "instance_id"
   ]
  },
  {
   "cell_type": "code",
   "execution_count": 24,
   "metadata": {},
   "outputs": [
    {
     "data": {
      "text/plain": [
       "array([39600, 39600, 39600, ..., 82500, 82500, 82500], dtype=int64)"
      ]
     },
     "execution_count": 24,
     "metadata": {},
     "output_type": "execute_result"
    }
   ],
   "source": [
    "timestamps = np.sort(cu.ts)\n",
    "timestamps"
   ]
  },
  {
   "cell_type": "code",
   "execution_count": 19,
   "metadata": {},
   "outputs": [
    {
     "data": {
      "image/png": "[encoded data removed]",
      "text/plain": [
       "<Figure size 432x288 with 1 Axes>"
      ]
     },
     "metadata": {},
     "output_type": "display_data"
    }
   ],
   "source": [
    "plt.hist(cu_mem_util, bins =  [0,10,20,30,40,50,60,70,80,90,100]) \n",
    "plt.title(\"Actual/Planned memory utilization distribution\") \n",
    "plt.ylabel(\"Instance number\")\n",
    "plt.xlabel(\"Actual/Planned %\")\n",
    "directory = \"D:/Files/2019 Spring/High P Com/Project/HPC_project/figures/\"\n",
    "filename = os.path.join(directory, 'Actual_Planned memory utilization.png')\n",
    "plt.savefig(filename, dpi=300)\n",
    "plt.show()"
   ]
  },
  {
   "cell_type": "markdown",
   "metadata": {},
   "source": [
    "#### take very long time to run "
   ]
  },
  {
   "cell_type": "code",
   "execution_count": 26,
   "metadata": {},
   "outputs": [
    {
     "ename": "KeyboardInterrupt",
     "evalue": "",
     "output_type": "error",
     "traceback": [
      "\u001b[1;31m---------------------------------------------------------------------------\u001b[0m",
      "\u001b[1;31mKeyboardInterrupt\u001b[0m                         Traceback (most recent call last)",
      "\u001b[1;32m<ipython-input-26-6224842a705e>\u001b[0m in \u001b[0;36m<module>\u001b[1;34m()\u001b[0m\n\u001b[0;32m      2\u001b[0m \u001b[0mcu_load_1min_max\u001b[0m \u001b[1;33m=\u001b[0m \u001b[1;33m{\u001b[0m\u001b[1;33m}\u001b[0m\u001b[1;33m\u001b[0m\u001b[0m\n\u001b[0;32m      3\u001b[0m \u001b[1;32mfor\u001b[0m \u001b[0mts\u001b[0m \u001b[1;32min\u001b[0m \u001b[0mtimestamps\u001b[0m\u001b[1;33m:\u001b[0m\u001b[1;33m\u001b[0m\u001b[0m\n\u001b[1;32m----> 4\u001b[1;33m     \u001b[0mcu_load_1min_max\u001b[0m\u001b[1;33m[\u001b[0m\u001b[0mts\u001b[0m\u001b[1;33m]\u001b[0m \u001b[1;33m=\u001b[0m \u001b[0mmax\u001b[0m\u001b[1;33m(\u001b[0m\u001b[0mcu\u001b[0m\u001b[1;33m[\u001b[0m\u001b[0mcu\u001b[0m\u001b[1;33m.\u001b[0m\u001b[0mts\u001b[0m \u001b[1;33m==\u001b[0m \u001b[0mts\u001b[0m\u001b[1;33m]\u001b[0m\u001b[1;33m.\u001b[0m\u001b[0mload1\u001b[0m\u001b[1;33m)\u001b[0m\u001b[1;33m\u001b[0m\u001b[0m\n\u001b[0m\u001b[0;32m      5\u001b[0m \u001b[0mcu_load_1min_avg\u001b[0m \u001b[1;33m=\u001b[0m \u001b[1;33m{\u001b[0m\u001b[1;33m}\u001b[0m\u001b[1;33m\u001b[0m\u001b[0m\n\u001b[0;32m      6\u001b[0m \u001b[1;32mfor\u001b[0m \u001b[0mts\u001b[0m \u001b[1;32min\u001b[0m \u001b[0mtimestamps\u001b[0m\u001b[1;33m:\u001b[0m\u001b[1;33m\u001b[0m\u001b[0m\n",
      "\u001b[1;32mC:\\CS\\Anaconda\\lib\\site-packages\\pandas\\core\\ops.py\u001b[0m in \u001b[0;36mwrapper\u001b[1;34m(self, other, axis)\u001b[0m\n\u001b[0;32m   1251\u001b[0m \u001b[1;33m\u001b[0m\u001b[0m\n\u001b[0;32m   1252\u001b[0m             \u001b[1;32mwith\u001b[0m \u001b[0mnp\u001b[0m\u001b[1;33m.\u001b[0m\u001b[0merrstate\u001b[0m\u001b[1;33m(\u001b[0m\u001b[0mall\u001b[0m\u001b[1;33m=\u001b[0m\u001b[1;34m'ignore'\u001b[0m\u001b[1;33m)\u001b[0m\u001b[1;33m:\u001b[0m\u001b[1;33m\u001b[0m\u001b[0m\n\u001b[1;32m-> 1253\u001b[1;33m                 \u001b[0mres\u001b[0m \u001b[1;33m=\u001b[0m \u001b[0mna_op\u001b[0m\u001b[1;33m(\u001b[0m\u001b[0mvalues\u001b[0m\u001b[1;33m,\u001b[0m \u001b[0mother\u001b[0m\u001b[1;33m)\u001b[0m\u001b[1;33m\u001b[0m\u001b[0m\n\u001b[0m\u001b[0;32m   1254\u001b[0m             \u001b[1;32mif\u001b[0m \u001b[0mis_scalar\u001b[0m\u001b[1;33m(\u001b[0m\u001b[0mres\u001b[0m\u001b[1;33m)\u001b[0m\u001b[1;33m:\u001b[0m\u001b[1;33m\u001b[0m\u001b[0m\n\u001b[0;32m   1255\u001b[0m                 raise TypeError('Could not compare {typ} type with Series'\n",
      "\u001b[1;32mC:\\CS\\Anaconda\\lib\\site-packages\\pandas\\core\\ops.py\u001b[0m in \u001b[0;36mna_op\u001b[1;34m(x, y)\u001b[0m\n\u001b[0;32m   1162\u001b[0m             \u001b[1;32mif\u001b[0m \u001b[0mmethod\u001b[0m \u001b[1;32mis\u001b[0m \u001b[1;32mnot\u001b[0m \u001b[1;32mNone\u001b[0m\u001b[1;33m:\u001b[0m\u001b[1;33m\u001b[0m\u001b[0m\n\u001b[0;32m   1163\u001b[0m                 \u001b[1;32mwith\u001b[0m \u001b[0mnp\u001b[0m\u001b[1;33m.\u001b[0m\u001b[0merrstate\u001b[0m\u001b[1;33m(\u001b[0m\u001b[0mall\u001b[0m\u001b[1;33m=\u001b[0m\u001b[1;34m'ignore'\u001b[0m\u001b[1;33m)\u001b[0m\u001b[1;33m:\u001b[0m\u001b[1;33m\u001b[0m\u001b[0m\n\u001b[1;32m-> 1164\u001b[1;33m                     \u001b[0mresult\u001b[0m \u001b[1;33m=\u001b[0m \u001b[0mmethod\u001b[0m\u001b[1;33m(\u001b[0m\u001b[0my\u001b[0m\u001b[1;33m)\u001b[0m\u001b[1;33m\u001b[0m\u001b[0m\n\u001b[0m\u001b[0;32m   1165\u001b[0m                 \u001b[1;32mif\u001b[0m \u001b[0mresult\u001b[0m \u001b[1;32mis\u001b[0m \u001b[0mNotImplemented\u001b[0m\u001b[1;33m:\u001b[0m\u001b[1;33m\u001b[0m\u001b[0m\n\u001b[0;32m   1166\u001b[0m                     \u001b[1;32mraise\u001b[0m \u001b[0mTypeError\u001b[0m\u001b[1;33m(\u001b[0m\u001b[1;34m\"invalid type comparison\"\u001b[0m\u001b[1;33m)\u001b[0m\u001b[1;33m\u001b[0m\u001b[0m\n",
      "\u001b[1;31mKeyboardInterrupt\u001b[0m: "
     ]
    }
   ],
   "source": [
    "cu_load_1min = np.sort(cu.load1)\n",
    "cu_load_1min_max = {}\n",
    "for ts in timestamps:\n",
    "    cu_load_1min_max[ts] = max(cu[cu.ts == ts].load1)\n",
    "cu_load_1min_avg = {}\n",
    "for ts in timestamps:\n",
    "    cu_load_1min_avg[ts] = sum(cu[cu.ts == ts].load1) / 11275 "
   ]
  },
  {
   "cell_type": "code",
   "execution_count": null,
   "metadata": {},
   "outputs": [],
   "source": [
    "cu_load_5min = np.sort(cu.load5)\n",
    "cu_load_5min_max = {}\n",
    "for ts in timestamps:\n",
    "    cu_load_5min_max[ts] = max(cu[cu.ts == ts].load5)\n",
    "cu_load_5min_avg = {}\n",
    "for ts in timestamps:\n",
    "    cu_load_5min_avg[ts] = sum(cu[cu.ts == ts].load5) / 11275 "
   ]
  },
  {
   "cell_type": "code",
   "execution_count": null,
   "metadata": {},
   "outputs": [],
   "source": [
    "cu_load_15min = np.sort(cu.load15)\n",
    "cu_load_15min_max = {}\n",
    "for ts in timestamps:\n",
    "    cu_load_15min_max[ts] = max(cu[cu.ts == ts].load15)\n",
    "cu_load_15min_avg = {}\n",
    "for ts in timestamps:\n",
    "    cu_load_15min_avg[ts] = sum(cu[cu.ts == ts].load15) / 11275 "
   ]
  }
 ],
 "metadata": {
  "kernelspec": {
   "display_name": "Python 3",
   "language": "python",
   "name": "python3"
  },
  "language_info": {
   "codemirror_mode": {
    "name": "ipython",
    "version": 3
   },
   "file_extension": ".py",
   "mimetype": "text/x-python",
   "name": "python",
   "nbconvert_exporter": "python",
   "pygments_lexer": "ipython3",
   "version": "3.6.5"
  }
 },
 "nbformat": 4,
 "nbformat_minor": 2
}
