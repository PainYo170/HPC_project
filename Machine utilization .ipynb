{
 "cells": [
  {
   "cell_type": "code",
   "execution_count": 1,
   "metadata": {},
   "outputs": [],
   "source": [
    "import numpy as np\n",
    "import pandas as pd"
   ]
  },
  {
   "cell_type": "code",
   "execution_count": 2,
   "metadata": {},
   "outputs": [],
   "source": [
    "su = pd.read_csv(\"D:/Files/2019 Spring/High P Com/Project/trace_201708/trace_201708/server_usage.csv\")"
   ]
  },
  {
   "cell_type": "markdown",
   "metadata": {},
   "source": [
    "### server_usage.csv "
   ]
  },
  {
   "cell_type": "code",
   "execution_count": 3,
   "metadata": {},
   "outputs": [
    {
     "data": {
      "text/html": [
       "<div>\n",
       "<style scoped>\n",
       "    .dataframe tbody tr th:only-of-type {\n",
       "        vertical-align: middle;\n",
       "    }\n",
       "\n",
       "    .dataframe tbody tr th {\n",
       "        vertical-align: top;\n",
       "    }\n",
       "\n",
       "    .dataframe thead th {\n",
       "        text-align: right;\n",
       "    }\n",
       "</style>\n",
       "<table border=\"1\" class=\"dataframe\">\n",
       "  <thead>\n",
       "    <tr style=\"text-align: right;\">\n",
       "      <th></th>\n",
       "      <th>timestamp</th>\n",
       "      <th>machineID</th>\n",
       "      <th>util_CPU</th>\n",
       "      <th>util_memory</th>\n",
       "      <th>util_disk</th>\n",
       "      <th>load1</th>\n",
       "      <th>load5</th>\n",
       "      <th>load15</th>\n",
       "    </tr>\n",
       "  </thead>\n",
       "  <tbody>\n",
       "    <tr>\n",
       "      <th>0</th>\n",
       "      <td>41700</td>\n",
       "      <td>237</td>\n",
       "      <td>23.38</td>\n",
       "      <td>30.080000</td>\n",
       "      <td>42.200001</td>\n",
       "      <td>15.82</td>\n",
       "      <td>13.860000</td>\n",
       "      <td>12.64</td>\n",
       "    </tr>\n",
       "    <tr>\n",
       "      <th>1</th>\n",
       "      <td>39600</td>\n",
       "      <td>265</td>\n",
       "      <td>26.36</td>\n",
       "      <td>29.540000</td>\n",
       "      <td>57.599998</td>\n",
       "      <td>17.46</td>\n",
       "      <td>18.900000</td>\n",
       "      <td>16.70</td>\n",
       "    </tr>\n",
       "    <tr>\n",
       "      <th>2</th>\n",
       "      <td>42600</td>\n",
       "      <td>770</td>\n",
       "      <td>49.14</td>\n",
       "      <td>60.099999</td>\n",
       "      <td>41.860001</td>\n",
       "      <td>33.20</td>\n",
       "      <td>31.220000</td>\n",
       "      <td>30.52</td>\n",
       "    </tr>\n",
       "    <tr>\n",
       "      <th>3</th>\n",
       "      <td>40800</td>\n",
       "      <td>776</td>\n",
       "      <td>33.24</td>\n",
       "      <td>47.520000</td>\n",
       "      <td>43.599998</td>\n",
       "      <td>21.84</td>\n",
       "      <td>22.100000</td>\n",
       "      <td>24.02</td>\n",
       "    </tr>\n",
       "    <tr>\n",
       "      <th>4</th>\n",
       "      <td>42900</td>\n",
       "      <td>393</td>\n",
       "      <td>45.72</td>\n",
       "      <td>58.720000</td>\n",
       "      <td>42.000000</td>\n",
       "      <td>34.10</td>\n",
       "      <td>36.239999</td>\n",
       "      <td>36.92</td>\n",
       "    </tr>\n",
       "  </tbody>\n",
       "</table>\n",
       "</div>"
      ],
      "text/plain": [
       "   timestamp  machineID  util_CPU  util_memory  util_disk  load1      load5  \\\n",
       "0      41700        237     23.38    30.080000  42.200001  15.82  13.860000   \n",
       "1      39600        265     26.36    29.540000  57.599998  17.46  18.900000   \n",
       "2      42600        770     49.14    60.099999  41.860001  33.20  31.220000   \n",
       "3      40800        776     33.24    47.520000  43.599998  21.84  22.100000   \n",
       "4      42900        393     45.72    58.720000  42.000000  34.10  36.239999   \n",
       "\n",
       "   load15  \n",
       "0   12.64  \n",
       "1   16.70  \n",
       "2   30.52  \n",
       "3   24.02  \n",
       "4   36.92  "
      ]
     },
     "execution_count": 3,
     "metadata": {},
     "output_type": "execute_result"
    }
   ],
   "source": [
    "su.head()"
   ]
  },
  {
   "cell_type": "code",
   "execution_count": 84,
   "metadata": {},
   "outputs": [],
   "source": [
    "su_timestamp = np.sort(su.timestamp)"
   ]
  },
  {
   "cell_type": "code",
   "execution_count": 85,
   "metadata": {},
   "outputs": [
    {
     "data": {
      "text/plain": [
       "array([39600, 39600, 39600, ..., 82500, 82500, 82500], dtype=int64)"
      ]
     },
     "execution_count": 85,
     "metadata": {},
     "output_type": "execute_result"
    }
   ],
   "source": [
    "su_timestamp"
   ]
  },
  {
   "cell_type": "code",
   "execution_count": 92,
   "metadata": {},
   "outputs": [
    {
     "data": {
      "text/plain": [
       "array([   1,    1,    1, ..., 1313, 1313, 1313], dtype=int64)"
      ]
     },
     "execution_count": 92,
     "metadata": {},
     "output_type": "execute_result"
    }
   ],
   "source": [
    "su_machineID = np.sort(su.machineID)\n",
    "su_machineID"
   ]
  },
  {
   "cell_type": "markdown",
   "metadata": {},
   "source": [
    "From the sorted timestamp we can see that timestamp is from 39600 to 82500, measure in second. <br>\n",
    "Therefore, the time duration was 82500-39600 = 42900s = 11.9h <br >"
   ]
  },
  {
   "cell_type": "markdown",
   "metadata": {},
   "source": [
    "### Now we compute maxium, minium and average CPU utilization"
   ]
  },
  {
   "cell_type": "code",
   "execution_count": 15,
   "metadata": {},
   "outputs": [
    {
     "data": {
      "text/plain": [
       "array([39600, 39900, 40200, 40500, 40800, 41100, 41400, 41700, 42000,\n",
       "       42300, 42600, 42900, 43200, 43500, 43800, 44100, 44400, 44700,\n",
       "       45000, 45300, 45600, 45900, 46200, 46500, 46800, 47100, 47400,\n",
       "       47700, 48000, 48300, 48600, 48900, 49200, 49500, 49800, 50100,\n",
       "       50400, 50700, 51000, 51300, 51600, 51900, 52200, 52500, 52800,\n",
       "       53100, 53400, 53700, 54000, 54300, 54600, 54900, 55200, 55500,\n",
       "       55800, 56100, 56400, 56700, 57000, 57300, 57600, 57900, 58200,\n",
       "       58500, 58800, 59100, 59400, 59700, 60000, 60300, 60600, 60900,\n",
       "       61200, 61500, 61800, 62100, 62400, 62700, 63000, 63300, 63600,\n",
       "       63900, 64200, 64500, 64800, 65100, 65400, 65700, 66000, 66300,\n",
       "       66600, 66900, 67200, 67500, 67800, 68100, 68400, 68700, 69000,\n",
       "       69300, 69600, 69900, 70200, 70500, 70800, 71100, 71400, 71700,\n",
       "       72000, 72300, 72600, 72900, 73200, 73500, 73800, 74100, 74400,\n",
       "       74700, 75000, 75300, 75600, 75900, 76200, 76500, 76800, 77100,\n",
       "       77400, 77700, 78000, 78300, 78600, 78900, 79200, 79500, 79800,\n",
       "       80100, 80400, 80700, 81000, 81300, 81600, 81900, 82200, 82500])"
      ]
     },
     "execution_count": 15,
     "metadata": {},
     "output_type": "execute_result"
    }
   ],
   "source": [
    "timestamps = np.sort((list(set(su.timestamp))))\n",
    "timestamps"
   ]
  },
  {
   "cell_type": "markdown",
   "metadata": {},
   "source": [
    "Here we can see that the sampling rate is 300s = 5min"
   ]
  },
  {
   "cell_type": "code",
   "execution_count": 93,
   "metadata": {},
   "outputs": [],
   "source": [
    "cpu_utilization_avg = {}\n",
    "for ts in timestamps:\n",
    "    cpu_utilization_avg[ts] = sum(su[su.timestamp == ts].util_CPU) / 1313"
   ]
  },
  {
   "cell_type": "code",
   "execution_count": 53,
   "metadata": {},
   "outputs": [],
   "source": [
    "cpu_utilization_min = {}\n",
    "for ts in timestamps:\n",
    "    cpu_utilization_min[ts] = min(su[su.timestamp == ts].util_CPU)"
   ]
  },
  {
   "cell_type": "code",
   "execution_count": 54,
   "metadata": {},
   "outputs": [],
   "source": [
    "cpu_utilization_max = {}\n",
    "for ts in timestamps:\n",
    "    cpu_utilization_max[ts] = max(su[su.timestamp == ts].util_CPU)"
   ]
  },
  {
   "cell_type": "markdown",
   "metadata": {},
   "source": [
    "Here we calculate the minimum, maximum and average CPU utilization for each time step. "
   ]
  },
  {
   "cell_type": "code",
   "execution_count": 49,
   "metadata": {},
   "outputs": [],
   "source": [
    "import matplotlib.pyplot as plt\n",
    "import os.path"
   ]
  },
  {
   "cell_type": "code",
   "execution_count": 94,
   "metadata": {},
   "outputs": [
    {
     "data": {
      "image/png": "[encoded data removed]",
      "text/plain": [
       "<Figure size 576x360 with 1 Axes>"
      ]
     },
     "metadata": {},
     "output_type": "display_data"
    }
   ],
   "source": [
    "plt.figure(figsize=[8,5])\n",
    "\n",
    "#plot CPU average utilization\n",
    "lists = sorted(cpu_utilization_avg.items())\n",
    "x, y = zip(*lists) # unpack a list of pairs into two tuples\n",
    "cpu = [z for z in y]\n",
    "hour = [(z- timestamps[0])/3600  for z in x]\n",
    "plt.plot(hour, cpu, label=\"avg util\")\n",
    "\n",
    "#plot CPU minimum utilization\n",
    "lists = sorted(cpu_utilization_min.items())\n",
    "x, y = zip(*lists) # unpack a list of pairs into two tuples\n",
    "cpu = [z for z in y]\n",
    "hour = [(z- timestamps[0])/3600  for z in x]\n",
    "plt.plot(hour, cpu, label=\"min util\")\n",
    "\n",
    "#plot CPU maximum utilization\n",
    "lists = sorted(cpu_utilization_max.items())\n",
    "x, y = zip(*lists) # unpack a list of pairs into two tuples\n",
    "cpu = [z for z in y]\n",
    "hour = [(z- timestamps[0])/3600  for z in x]\n",
    "plt.plot(hour, cpu, label=\"max util\")\n",
    "\n",
    "#plot overall graph\n",
    "plt.legend()\n",
    "plt.title(\"CPU Utilization\")\n",
    "plt.ylabel(\"Utilization %\")\n",
    "plt.xlabel(\"Time hour\")\n",
    "hours = list(range(0,12))\n",
    "labels = [11, 13, 15, 17, 19, 21, 23]\n",
    "plt.xticks(range(0,14,2), labels) \n",
    "directory = \"D:/Files/2019 Spring/High P Com/Project/HPC_project/figures/\"\n",
    "filename = os.path.join(directory, 'CPU_utilization.png')\n",
    "plt.savefig(filename, dpi=300)\n",
    "plt.show()"
   ]
  },
  {
   "cell_type": "markdown",
   "metadata": {},
   "source": [
    "### Now we compute maxium, minium and average memory utilization"
   ]
  },
  {
   "cell_type": "code",
   "execution_count": 96,
   "metadata": {},
   "outputs": [],
   "source": [
    "mem_utilization_avg = {}\n",
    "for ts in timestamps:\n",
    "    mem_utilization_avg[ts] = sum(su[su.timestamp == ts].util_memory) / 1313"
   ]
  },
  {
   "cell_type": "code",
   "execution_count": 58,
   "metadata": {},
   "outputs": [],
   "source": [
    "mem_utilization_min = {}\n",
    "for ts in timestamps:\n",
    "    mem_utilization_min[ts] = min(su[su.timestamp == ts].util_memory)"
   ]
  },
  {
   "cell_type": "code",
   "execution_count": 59,
   "metadata": {},
   "outputs": [],
   "source": [
    "mem_utilization_max = {}\n",
    "for ts in timestamps:\n",
    "    mem_utilization_max[ts] = max(su[su.timestamp == ts].util_memory)"
   ]
  },
  {
   "cell_type": "code",
   "execution_count": null,
   "metadata": {},
   "outputs": [],
   "source": [
    "plt.figure(figsize=[8,5])\n",
    "\n",
    "#plot memory average utilization\n",
    "lists = sorted(mem_utilization_avg.items())\n",
    "x, y = zip(*lists) # unpack a list of pairs into two tuples\n",
    "cpu = [z for z in y]\n",
    "hour = [(z- timestamps[0])/3600  for z in x]\n",
    "plt.plot(hour, cpu, label=\"avg util\")\n",
    "\n",
    "#plot memory minimum utilization\n",
    "lists = sorted(mem_utilization_min.items())\n",
    "x, y = zip(*lists) # unpack a list of pairs into two tuples\n",
    "cpu = [z for z in y]\n",
    "hour = [(z- timestamps[0])/3600  for z in x]\n",
    "plt.plot(hour, cpu, label=\"min util\")\n",
    "\n",
    "#plot memory maximum utilization\n",
    "lists = sorted(mem_utilization_max.items())\n",
    "x, y = zip(*lists) # unpack a list of pairs into two tuples\n",
    "cpu = [z for z in y]\n",
    "hour = [(z- timestamps[0])/3600  for z in x]\n",
    "plt.plot(hour, cpu, label=\"max util\")\n",
    "\n",
    "#plot overall graph\n",
    "plt.legend()\n",
    "plt.title(\"Memory Utilization\")\n",
    "plt.ylabel(\"Utilization %\")\n",
    "plt.xlabel(\"Time hour\")\n",
    "hours = list(range(0,12))\n",
    "labels = [11, 13, 15, 17, 19, 21, 23]\n",
    "plt.xticks(range(0,14,2), labels) \n",
    "directory = \"D:/Files/2019 Spring/High P Com/Project/HPC_project/figures/\"\n",
    "filename = os.path.join(directory, 'Memory_utilization.png')\n",
    "plt.savefig(filename, dpi=300)\n",
    "plt.show()"
   ]
  },
  {
   "cell_type": "markdown",
   "metadata": {},
   "source": [
    "### Now we compute maxium, minium and average disk utilization"
   ]
  },
  {
   "cell_type": "code",
   "execution_count": 97,
   "metadata": {},
   "outputs": [],
   "source": [
    "disk_utilization_avg = {}\n",
    "for ts in timestamps:\n",
    "    disk_utilization_avg[ts] = sum(su[su.timestamp == ts].util_disk) / 1313"
   ]
  },
  {
   "cell_type": "code",
   "execution_count": 68,
   "metadata": {},
   "outputs": [],
   "source": [
    "disk_utilization_min = {}\n",
    "for ts in timestamps:\n",
    "    disk_utilization_min[ts] = min(su[su.timestamp == ts].util_disk)"
   ]
  },
  {
   "cell_type": "code",
   "execution_count": 70,
   "metadata": {},
   "outputs": [],
   "source": [
    "disk_utilization_max = {}\n",
    "for ts in timestamps:\n",
    "    disk_utilization_max[ts] = max(su[su.timestamp == ts].util_disk)"
   ]
  },
  {
   "cell_type": "code",
   "execution_count": 104,
   "metadata": {},
   "outputs": [
    {
     "data": {
      "image/png": "[encoded data removed]",
      "text/plain": [
       "<Figure size 576x360 with 1 Axes>"
      ]
     },
     "metadata": {},
     "output_type": "display_data"
    }
   ],
   "source": [
    "plt.figure(figsize=[8,5])\n",
    "\n",
    "#plot disk average utilization\n",
    "lists = sorted(disk_utilization_avg.items())\n",
    "x, y = zip(*lists) # unpack a list of pairs into two tuples\n",
    "cpu = [z for z in y]\n",
    "hour = [(z- timestamps[0])/3600  for z in x]\n",
    "plt.plot(hour, cpu, label=\"avg util\")\n",
    "\n",
    "#plot disk minimum utilization\n",
    "lists = sorted(disk_utilization_min.items())\n",
    "x, y = zip(*lists) # unpack a list of pairs into two tuples\n",
    "cpu = [z for z in y]\n",
    "hour = [(z- timestamps[0])/3600  for z in x]\n",
    "plt.plot(hour, cpu, label=\"min util\")\n",
    "\n",
    "#plot disk maximum utilization\n",
    "lists = sorted(disk_utilization_max.items())\n",
    "x, y = zip(*lists) # unpack a list of pairs into two tuples\n",
    "cpu = [z for z in y]\n",
    "hour = [(z- timestamps[0])/3600  for z in x]\n",
    "plt.plot(hour, cpu, label=\"max util\")\n",
    "\n",
    "#plot overall graph\n",
    "plt.legend()\n",
    "plt.title(\"Disk Utilization\")\n",
    "plt.ylabel(\"Utilization %\")\n",
    "plt.xlabel(\"Time hour\")\n",
    "hours = list(range(0,12))\n",
    "labels = [11, 13, 15, 17, 19, 21, 23]\n",
    "plt.xticks(range(0,14,2), labels) \n",
    "directory = \"D:/Files/2019 Spring/High P Com/Project/HPC_project/figures/\"\n",
    "filename = os.path.join(directory, 'Disk_utilization.png')\n",
    "plt.savefig(filename, dpi=300)\n",
    "plt.show()"
   ]
  },
  {
   "cell_type": "markdown",
   "metadata": {},
   "source": [
    "### Now we try to plot the CPU utilization heatmap with machineID "
   ]
  },
  {
   "cell_type": "code",
   "execution_count": 101,
   "metadata": {},
   "outputs": [],
   "source": [
    "import numpy as np\n",
    "import pandas as pd\n",
    "import seaborn as sns\n",
    "import matplotlib.pylab as plt"
   ]
  },
  {
   "cell_type": "code",
   "execution_count": 103,
   "metadata": {},
   "outputs": [
    {
     "data": {
      "text/html": [
       "<div>\n",
       "<style scoped>\n",
       "    .dataframe tbody tr th:only-of-type {\n",
       "        vertical-align: middle;\n",
       "    }\n",
       "\n",
       "    .dataframe tbody tr th {\n",
       "        vertical-align: top;\n",
       "    }\n",
       "\n",
       "    .dataframe thead th {\n",
       "        text-align: right;\n",
       "    }\n",
       "</style>\n",
       "<table border=\"1\" class=\"dataframe\">\n",
       "  <thead>\n",
       "    <tr style=\"text-align: right;\">\n",
       "      <th></th>\n",
       "      <th>timestamp</th>\n",
       "      <th>machineID</th>\n",
       "      <th>util_CPU</th>\n",
       "      <th>util_memory</th>\n",
       "      <th>util_disk</th>\n",
       "      <th>load1</th>\n",
       "      <th>load5</th>\n",
       "      <th>load15</th>\n",
       "    </tr>\n",
       "  </thead>\n",
       "  <tbody>\n",
       "    <tr>\n",
       "      <th>0</th>\n",
       "      <td>41700</td>\n",
       "      <td>237</td>\n",
       "      <td>23.38</td>\n",
       "      <td>30.080000</td>\n",
       "      <td>42.200001</td>\n",
       "      <td>15.82</td>\n",
       "      <td>13.860000</td>\n",
       "      <td>12.64</td>\n",
       "    </tr>\n",
       "    <tr>\n",
       "      <th>1</th>\n",
       "      <td>39600</td>\n",
       "      <td>265</td>\n",
       "      <td>26.36</td>\n",
       "      <td>29.540000</td>\n",
       "      <td>57.599998</td>\n",
       "      <td>17.46</td>\n",
       "      <td>18.900000</td>\n",
       "      <td>16.70</td>\n",
       "    </tr>\n",
       "    <tr>\n",
       "      <th>2</th>\n",
       "      <td>42600</td>\n",
       "      <td>770</td>\n",
       "      <td>49.14</td>\n",
       "      <td>60.099999</td>\n",
       "      <td>41.860001</td>\n",
       "      <td>33.20</td>\n",
       "      <td>31.220000</td>\n",
       "      <td>30.52</td>\n",
       "    </tr>\n",
       "    <tr>\n",
       "      <th>3</th>\n",
       "      <td>40800</td>\n",
       "      <td>776</td>\n",
       "      <td>33.24</td>\n",
       "      <td>47.520000</td>\n",
       "      <td>43.599998</td>\n",
       "      <td>21.84</td>\n",
       "      <td>22.100000</td>\n",
       "      <td>24.02</td>\n",
       "    </tr>\n",
       "    <tr>\n",
       "      <th>4</th>\n",
       "      <td>42900</td>\n",
       "      <td>393</td>\n",
       "      <td>45.72</td>\n",
       "      <td>58.720000</td>\n",
       "      <td>42.000000</td>\n",
       "      <td>34.10</td>\n",
       "      <td>36.239999</td>\n",
       "      <td>36.92</td>\n",
       "    </tr>\n",
       "  </tbody>\n",
       "</table>\n",
       "</div>"
      ],
      "text/plain": [
       "   timestamp  machineID  util_CPU  util_memory  util_disk  load1      load5  \\\n",
       "0      41700        237     23.38    30.080000  42.200001  15.82  13.860000   \n",
       "1      39600        265     26.36    29.540000  57.599998  17.46  18.900000   \n",
       "2      42600        770     49.14    60.099999  41.860001  33.20  31.220000   \n",
       "3      40800        776     33.24    47.520000  43.599998  21.84  22.100000   \n",
       "4      42900        393     45.72    58.720000  42.000000  34.10  36.239999   \n",
       "\n",
       "   load15  \n",
       "0   12.64  \n",
       "1   16.70  \n",
       "2   30.52  \n",
       "3   24.02  \n",
       "4   36.92  "
      ]
     },
     "execution_count": 103,
     "metadata": {},
     "output_type": "execute_result"
    }
   ],
   "source": [
    "su.head()"
   ]
  }
 ],
 "metadata": {
  "kernelspec": {
   "display_name": "Python 3",
   "language": "python",
   "name": "python3"
  },
  "language_info": {
   "codemirror_mode": {
    "name": "ipython",
    "version": 3
   },
   "file_extension": ".py",
   "mimetype": "text/x-python",
   "name": "python",
   "nbconvert_exporter": "python",
   "pygments_lexer": "ipython3",
   "version": "3.6.5"
  }
 },
 "nbformat": 4,
 "nbformat_minor": 2
}
