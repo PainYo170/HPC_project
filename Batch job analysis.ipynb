{
 "cells": [
  {
   "cell_type": "markdown",
   "metadata": {},
   "source": [
    "#### A job contains multiple tasks, different tasks executes different computing logics. Tasks form a DAG according to the data dependency. Instance is the smallest scheduling unit of batch workload. All instances within a task execute exactly the same binary with the same resource request, but with different input data."
   ]
  },
  {
   "cell_type": "code",
   "execution_count": 39,
   "metadata": {},
   "outputs": [],
   "source": [
    "import numpy as np\n",
    "import pandas as pd "
   ]
  },
  {
   "cell_type": "code",
   "execution_count": 3,
   "metadata": {},
   "outputs": [],
   "source": [
    "bt = pd.read_csv(\"D:/Files/2019 Spring/High P Com/Project/trace_201708/trace_201708/batch_task.csv\") \n",
    "bi = pd.read_csv(\"D:/Files/2019 Spring/High P Com/Project/trace_201708/trace_201708/batch_instance.csv\")"
   ]
  },
  {
   "cell_type": "code",
   "execution_count": 4,
   "metadata": {},
   "outputs": [
    {
     "data": {
      "text/html": [
       "<div>\n",
       "<style scoped>\n",
       "    .dataframe tbody tr th:only-of-type {\n",
       "        vertical-align: middle;\n",
       "    }\n",
       "\n",
       "    .dataframe tbody tr th {\n",
       "        vertical-align: top;\n",
       "    }\n",
       "\n",
       "    .dataframe thead th {\n",
       "        text-align: right;\n",
       "    }\n",
       "</style>\n",
       "<table border=\"1\" class=\"dataframe\">\n",
       "  <thead>\n",
       "    <tr style=\"text-align: right;\">\n",
       "      <th></th>\n",
       "      <th>create_timestamp</th>\n",
       "      <th>modify_timestamp</th>\n",
       "      <th>job_id</th>\n",
       "      <th>task_id</th>\n",
       "      <th>instance_num</th>\n",
       "      <th>status</th>\n",
       "      <th>plan_cpu</th>\n",
       "      <th>plan_mem</th>\n",
       "    </tr>\n",
       "  </thead>\n",
       "  <tbody>\n",
       "    <tr>\n",
       "      <th>0</th>\n",
       "      <td>6459</td>\n",
       "      <td>6524</td>\n",
       "      <td>3</td>\n",
       "      <td>4</td>\n",
       "      <td>15740</td>\n",
       "      <td>Terminated</td>\n",
       "      <td>50.0</td>\n",
       "      <td>0.007957</td>\n",
       "    </tr>\n",
       "    <tr>\n",
       "      <th>1</th>\n",
       "      <td>6457</td>\n",
       "      <td>6533</td>\n",
       "      <td>3</td>\n",
       "      <td>5</td>\n",
       "      <td>1</td>\n",
       "      <td>Terminated</td>\n",
       "      <td>50.0</td>\n",
       "      <td>0.004395</td>\n",
       "    </tr>\n",
       "    <tr>\n",
       "      <th>2</th>\n",
       "      <td>6036</td>\n",
       "      <td>6046</td>\n",
       "      <td>4</td>\n",
       "      <td>7</td>\n",
       "      <td>393</td>\n",
       "      <td>Waiting</td>\n",
       "      <td>NaN</td>\n",
       "      <td>NaN</td>\n",
       "    </tr>\n",
       "    <tr>\n",
       "      <th>3</th>\n",
       "      <td>6036</td>\n",
       "      <td>6046</td>\n",
       "      <td>4</td>\n",
       "      <td>6</td>\n",
       "      <td>452</td>\n",
       "      <td>Waiting</td>\n",
       "      <td>NaN</td>\n",
       "      <td>NaN</td>\n",
       "    </tr>\n",
       "    <tr>\n",
       "      <th>4</th>\n",
       "      <td>10719</td>\n",
       "      <td>11332</td>\n",
       "      <td>15</td>\n",
       "      <td>67</td>\n",
       "      <td>1705</td>\n",
       "      <td>Terminated</td>\n",
       "      <td>50.0</td>\n",
       "      <td>0.005736</td>\n",
       "    </tr>\n",
       "  </tbody>\n",
       "</table>\n",
       "</div>"
      ],
      "text/plain": [
       "   create_timestamp  modify_timestamp  job_id  task_id  instance_num  \\\n",
       "0              6459              6524       3        4         15740   \n",
       "1              6457              6533       3        5             1   \n",
       "2              6036              6046       4        7           393   \n",
       "3              6036              6046       4        6           452   \n",
       "4             10719             11332      15       67          1705   \n",
       "\n",
       "       status  plan_cpu  plan_mem  \n",
       "0  Terminated      50.0  0.007957  \n",
       "1  Terminated      50.0  0.004395  \n",
       "2     Waiting       NaN       NaN  \n",
       "3     Waiting       NaN       NaN  \n",
       "4  Terminated      50.0  0.005736  "
      ]
     },
     "execution_count": 4,
     "metadata": {},
     "output_type": "execute_result"
    }
   ],
   "source": [
    "bt.head()"
   ]
  },
  {
   "cell_type": "code",
   "execution_count": 5,
   "metadata": {},
   "outputs": [
    {
     "data": {
      "text/html": [
       "<div>\n",
       "<style scoped>\n",
       "    .dataframe tbody tr th:only-of-type {\n",
       "        vertical-align: middle;\n",
       "    }\n",
       "\n",
       "    .dataframe tbody tr th {\n",
       "        vertical-align: top;\n",
       "    }\n",
       "\n",
       "    .dataframe thead th {\n",
       "        text-align: right;\n",
       "    }\n",
       "</style>\n",
       "<table border=\"1\" class=\"dataframe\">\n",
       "  <thead>\n",
       "    <tr style=\"text-align: right;\">\n",
       "      <th></th>\n",
       "      <th>start_timestamp</th>\n",
       "      <th>end_timestamp</th>\n",
       "      <th>job_id</th>\n",
       "      <th>task_id</th>\n",
       "      <th>machineID</th>\n",
       "      <th>status</th>\n",
       "      <th>seq_no</th>\n",
       "      <th>total_seq_no</th>\n",
       "      <th>real_cpu_max</th>\n",
       "      <th>real_cpu_avg</th>\n",
       "      <th>...</th>\n",
       "      <th>120</th>\n",
       "      <th>686</th>\n",
       "      <th>299</th>\n",
       "      <th>Terminated</th>\n",
       "      <th>1</th>\n",
       "      <th>1.1</th>\n",
       "      <th>1.5</th>\n",
       "      <th>0.29</th>\n",
       "      <th>Unnamed: 20</th>\n",
       "      <th>Unnamed: 21</th>\n",
       "    </tr>\n",
       "  </thead>\n",
       "  <tbody>\n",
       "    <tr>\n",
       "      <th>0</th>\n",
       "      <td>41561</td>\n",
       "      <td>41619.0</td>\n",
       "      <td>120.0</td>\n",
       "      <td>686.0</td>\n",
       "      <td>1279.0</td>\n",
       "      <td>Terminated</td>\n",
       "      <td>1.0</td>\n",
       "      <td>1.0</td>\n",
       "      <td>0.89</td>\n",
       "      <td>0.28</td>\n",
       "      <td>...</td>\n",
       "      <td>NaN</td>\n",
       "      <td>NaN</td>\n",
       "      <td>NaN</td>\n",
       "      <td>NaN</td>\n",
       "      <td>NaN</td>\n",
       "      <td>NaN</td>\n",
       "      <td>NaN</td>\n",
       "      <td>NaN</td>\n",
       "      <td>NaN</td>\n",
       "      <td>NaN</td>\n",
       "    </tr>\n",
       "    <tr>\n",
       "      <th>1</th>\n",
       "      <td>41562</td>\n",
       "      <td>41617.0</td>\n",
       "      <td>120.0</td>\n",
       "      <td>686.0</td>\n",
       "      <td>828.0</td>\n",
       "      <td>Terminated</td>\n",
       "      <td>1.0</td>\n",
       "      <td>1.0</td>\n",
       "      <td>0.94</td>\n",
       "      <td>0.29</td>\n",
       "      <td>...</td>\n",
       "      <td>NaN</td>\n",
       "      <td>NaN</td>\n",
       "      <td>NaN</td>\n",
       "      <td>NaN</td>\n",
       "      <td>NaN</td>\n",
       "      <td>NaN</td>\n",
       "      <td>NaN</td>\n",
       "      <td>NaN</td>\n",
       "      <td>NaN</td>\n",
       "      <td>NaN</td>\n",
       "    </tr>\n",
       "    <tr>\n",
       "      <th>2</th>\n",
       "      <td>41561</td>\n",
       "      <td>41617.0</td>\n",
       "      <td>120.0</td>\n",
       "      <td>686.0</td>\n",
       "      <td>95.0</td>\n",
       "      <td>Terminated</td>\n",
       "      <td>1.0</td>\n",
       "      <td>1.0</td>\n",
       "      <td>1.00</td>\n",
       "      <td>0.31</td>\n",
       "      <td>...</td>\n",
       "      <td>NaN</td>\n",
       "      <td>NaN</td>\n",
       "      <td>NaN</td>\n",
       "      <td>NaN</td>\n",
       "      <td>NaN</td>\n",
       "      <td>NaN</td>\n",
       "      <td>NaN</td>\n",
       "      <td>NaN</td>\n",
       "      <td>NaN</td>\n",
       "      <td>NaN</td>\n",
       "    </tr>\n",
       "    <tr>\n",
       "      <th>3</th>\n",
       "      <td>41557</td>\n",
       "      <td>41610.0</td>\n",
       "      <td>120.0</td>\n",
       "      <td>686.0</td>\n",
       "      <td>545.0</td>\n",
       "      <td>Terminated</td>\n",
       "      <td>1.0</td>\n",
       "      <td>1.0</td>\n",
       "      <td>1.37</td>\n",
       "      <td>0.29</td>\n",
       "      <td>...</td>\n",
       "      <td>NaN</td>\n",
       "      <td>NaN</td>\n",
       "      <td>NaN</td>\n",
       "      <td>NaN</td>\n",
       "      <td>NaN</td>\n",
       "      <td>NaN</td>\n",
       "      <td>NaN</td>\n",
       "      <td>NaN</td>\n",
       "      <td>NaN</td>\n",
       "      <td>NaN</td>\n",
       "    </tr>\n",
       "    <tr>\n",
       "      <th>4</th>\n",
       "      <td>41557</td>\n",
       "      <td>41614.0</td>\n",
       "      <td>120.0</td>\n",
       "      <td>686.0</td>\n",
       "      <td>258.0</td>\n",
       "      <td>Terminated</td>\n",
       "      <td>1.0</td>\n",
       "      <td>1.0</td>\n",
       "      <td>1.18</td>\n",
       "      <td>0.27</td>\n",
       "      <td>...</td>\n",
       "      <td>NaN</td>\n",
       "      <td>NaN</td>\n",
       "      <td>NaN</td>\n",
       "      <td>NaN</td>\n",
       "      <td>NaN</td>\n",
       "      <td>NaN</td>\n",
       "      <td>NaN</td>\n",
       "      <td>NaN</td>\n",
       "      <td>NaN</td>\n",
       "      <td>NaN</td>\n",
       "    </tr>\n",
       "  </tbody>\n",
       "</table>\n",
       "<p>5 rows × 22 columns</p>\n",
       "</div>"
      ],
      "text/plain": [
       "   start_timestamp  end_timestamp  job_id  task_id  machineID      status  \\\n",
       "0            41561        41619.0   120.0    686.0     1279.0  Terminated   \n",
       "1            41562        41617.0   120.0    686.0      828.0  Terminated   \n",
       "2            41561        41617.0   120.0    686.0       95.0  Terminated   \n",
       "3            41557        41610.0   120.0    686.0      545.0  Terminated   \n",
       "4            41557        41614.0   120.0    686.0      258.0  Terminated   \n",
       "\n",
       "   seq_no  total_seq_no  real_cpu_max  real_cpu_avg     ...       120  686  \\\n",
       "0     1.0           1.0          0.89          0.28     ...       NaN  NaN   \n",
       "1     1.0           1.0          0.94          0.29     ...       NaN  NaN   \n",
       "2     1.0           1.0          1.00          0.31     ...       NaN  NaN   \n",
       "3     1.0           1.0          1.37          0.29     ...       NaN  NaN   \n",
       "4     1.0           1.0          1.18          0.27     ...       NaN  NaN   \n",
       "\n",
       "   299  Terminated   1  1.1  1.5  0.29  Unnamed: 20  Unnamed: 21  \n",
       "0  NaN         NaN NaN  NaN  NaN   NaN          NaN          NaN  \n",
       "1  NaN         NaN NaN  NaN  NaN   NaN          NaN          NaN  \n",
       "2  NaN         NaN NaN  NaN  NaN   NaN          NaN          NaN  \n",
       "3  NaN         NaN NaN  NaN  NaN   NaN          NaN          NaN  \n",
       "4  NaN         NaN NaN  NaN  NaN   NaN          NaN          NaN  \n",
       "\n",
       "[5 rows x 22 columns]"
      ]
     },
     "execution_count": 5,
     "metadata": {},
     "output_type": "execute_result"
    }
   ],
   "source": [
    "bi.head()"
   ]
  },
  {
   "cell_type": "code",
   "execution_count": 19,
   "metadata": {},
   "outputs": [
    {
     "data": {
      "text/plain": [
       "array([    1,     2,     2, ..., 12951, 12951, 12951], dtype=int64)"
      ]
     },
     "execution_count": 19,
     "metadata": {},
     "output_type": "execute_result"
    }
   ],
   "source": [
    "bt_job_id = np.sort(bt.job_id)\n",
    "bt_job_id"
   ]
  },
  {
   "cell_type": "code",
   "execution_count": 20,
   "metadata": {},
   "outputs": [
    {
     "data": {
      "text/plain": [
       "array([1, 2, 2, 3, 3, 4, 4, 5, 5, 6, 7, 7, 7, 7, 7, 7, 7, 7, 7, 7],\n",
       "      dtype=int64)"
      ]
     },
     "execution_count": 20,
     "metadata": {},
     "output_type": "execute_result"
    }
   ],
   "source": [
    "bt_job_id[:20]"
   ]
  },
  {
   "cell_type": "code",
   "execution_count": 23,
   "metadata": {},
   "outputs": [],
   "source": [
    "bt_instance_pre_job = {}\n",
    "bt_instance_pre_job = pd.value_counts(bt_job_id)"
   ]
  },
  {
   "cell_type": "code",
   "execution_count": 28,
   "metadata": {},
   "outputs": [
    {
     "data": {
      "text/plain": [
       "156"
      ]
     },
     "execution_count": 28,
     "metadata": {},
     "output_type": "execute_result"
    }
   ],
   "source": [
    "max(bt_instance_pre_job)"
   ]
  },
  {
   "cell_type": "code",
   "execution_count": 30,
   "metadata": {},
   "outputs": [
    {
     "data": {
      "text/plain": [
       "1"
      ]
     },
     "execution_count": 30,
     "metadata": {},
     "output_type": "execute_result"
    }
   ],
   "source": [
    "min(bt_instance_pre_job)"
   ]
  },
  {
   "cell_type": "code",
   "execution_count": 32,
   "metadata": {},
   "outputs": [
    {
     "data": {
      "text/plain": [
       "6.219828584665277"
      ]
     },
     "execution_count": 32,
     "metadata": {},
     "output_type": "execute_result"
    }
   ],
   "source": [
    "sum(bt_instance_pre_job) / len(bt_instance_pre_job)"
   ]
  },
  {
   "cell_type": "code",
   "execution_count": 41,
   "metadata": {},
   "outputs": [
    {
     "data": {
      "text/plain": [
       "998      156\n",
       "997      153\n",
       "996      153\n",
       "9565     137\n",
       "9603     109\n",
       "9098     102\n",
       "5033      87\n",
       "9101      72\n",
       "10620     71\n",
       "5467      69\n",
       "5466      69\n",
       "906       67\n",
       "9481      67\n",
       "9482      67\n",
       "9602      61\n",
       "989       60\n",
       "11992     56\n",
       "7065      55\n",
       "12162     55\n",
       "9736      51\n",
       "1936      50\n",
       "1420      49\n",
       "1421      49\n",
       "9635      49\n",
       "9371      48\n",
       "9607      46\n",
       "12694     45\n",
       "508       44\n",
       "12658     44\n",
       "12666     44\n",
       "        ... \n",
       "10954      1\n",
       "4270       1\n",
       "1771       1\n",
       "9483       1\n",
       "1231       1\n",
       "5325       1\n",
       "7372       1\n",
       "9419       1\n",
       "9839       1\n",
       "7308       1\n",
       "1103       1\n",
       "3150       1\n",
       "9903       1\n",
       "11338      1\n",
       "1039       1\n",
       "3022       1\n",
       "12458      1\n",
       "12014      1\n",
       "9967       1\n",
       "10031      1\n",
       "10095      1\n",
       "11146      1\n",
       "1963       1\n",
       "10159      1\n",
       "9035       1\n",
       "12270      1\n",
       "8232       1\n",
       "12394      1\n",
       "8360       1\n",
       "12296      1\n",
       "Length: 12951, dtype: int64"
      ]
     },
     "execution_count": 41,
     "metadata": {},
     "output_type": "execute_result"
    }
   ],
   "source": [
    "bt_instance_pre_job"
   ]
  },
  {
   "cell_type": "code",
   "execution_count": 44,
   "metadata": {},
   "outputs": [
    {
     "data": {
      "text/plain": [
       "3749"
      ]
     },
     "execution_count": 44,
     "metadata": {},
     "output_type": "execute_result"
    }
   ],
   "source": [
    "longest_job_start = min(bt[bt.job_id == 998].create_timestamp)\n",
    "longest_job_start"
   ]
  },
  {
   "cell_type": "code",
   "execution_count": 45,
   "metadata": {},
   "outputs": [
    {
     "data": {
      "text/plain": [
       "3903.0"
      ]
     },
     "execution_count": 45,
     "metadata": {},
     "output_type": "execute_result"
    }
   ],
   "source": [
    "longest_job_end = max(bi[bi.job_id == 998].end_timestamp)\n",
    "longest_job_end"
   ]
  }
 ],
 "metadata": {
  "kernelspec": {
   "display_name": "Python 3",
   "language": "python",
   "name": "python3"
  },
  "language_info": {
   "codemirror_mode": {
    "name": "ipython",
    "version": 3
   },
   "file_extension": ".py",
   "mimetype": "text/x-python",
   "name": "python",
   "nbconvert_exporter": "python",
   "pygments_lexer": "ipython3",
   "version": "3.6.5"
  }
 },
 "nbformat": 4,
 "nbformat_minor": 2
}
